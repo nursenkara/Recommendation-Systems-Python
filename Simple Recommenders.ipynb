{
 "cells": [
  {
   "cell_type": "markdown",
   "id": "34796e3d",
   "metadata": {},
   "source": [
    "### Simple Recommenders"
   ]
  },
  {
   "cell_type": "markdown",
   "id": "bbcddab0",
   "metadata": {},
   "source": [
    "Her kullanıcı için film popülerliğine ve/veya türüne göre genelleştirilmiş önerilerde bulunur. Bu sistemin arkasındaki temel fikir daha popüler ve eleştirmenlerce beğenilen filmlerin , ortalama kitle tarafından beğenilme olasılığının yüksek olmasıdır.\n",
    "\n",
    "Örnek olarak IMDB'den toplanan meta verileri kullanılarak basitleştirilmiş bir IMDB Top 250 film klonu oluşturulacaktır."
   ]
  },
  {
   "cell_type": "markdown",
   "id": "ed2e94ae",
   "metadata": {},
   "source": [
    "Adımlar:\n",
    "\n",
    "#### Filmleri derecelendirmek için metriğe veya skora karar verilmesi\n",
    "#### Her film için skorun hesaplanması\n",
    "#### Filmlerin skora göre sıralanması ve en iyi sonuçların elde edilmesi."
   ]
  },
  {
   "cell_type": "code",
   "execution_count": null,
   "id": "9b278a47",
   "metadata": {},
   "outputs": [],
   "source": [
    "#Gerekli kütüphaneleri ekleyelim.\n",
    "import numpy as np\n",
    "import pandas as pd\n",
    "import matplotlib.pyplot as plt\n",
    "import seaborn as sns"
   ]
  },
  {
   "cell_type": "code",
   "execution_count": 3,
   "id": "1a878fe2",
   "metadata": {},
   "outputs": [
    {
     "name": "stdout",
     "output_type": "stream",
     "text": [
      "Collecting missingno\n",
      "  Using cached missingno-0.5.0-py3-none-any.whl (8.8 kB)\n",
      "Requirement already satisfied: matplotlib in c:\\users\\asus\\anaconda3\\lib\\site-packages (from missingno) (3.4.3)\n",
      "Requirement already satisfied: scipy in c:\\users\\asus\\anaconda3\\lib\\site-packages (from missingno) (1.7.1)\n",
      "Requirement already satisfied: seaborn in c:\\users\\asus\\anaconda3\\lib\\site-packages (from missingno) (0.11.2)\n",
      "Requirement already satisfied: numpy in c:\\users\\asus\\anaconda3\\lib\\site-packages (from missingno) (1.20.3)\n",
      "Requirement already satisfied: cycler>=0.10 in c:\\users\\asus\\anaconda3\\lib\\site-packages (from matplotlib->missingno) (0.10.0)\n",
      "Requirement already satisfied: pillow>=6.2.0 in c:\\users\\asus\\anaconda3\\lib\\site-packages (from matplotlib->missingno) (8.4.0)\n",
      "Requirement already satisfied: python-dateutil>=2.7 in c:\\users\\asus\\anaconda3\\lib\\site-packages (from matplotlib->missingno) (2.8.2)\n",
      "Requirement already satisfied: kiwisolver>=1.0.1 in c:\\users\\asus\\anaconda3\\lib\\site-packages (from matplotlib->missingno) (1.3.1)\n",
      "Requirement already satisfied: pyparsing>=2.2.1 in c:\\users\\asus\\anaconda3\\lib\\site-packages (from matplotlib->missingno) (3.0.4)\n",
      "Requirement already satisfied: six in c:\\users\\asus\\anaconda3\\lib\\site-packages (from cycler>=0.10->matplotlib->missingno) (1.16.0)\n",
      "Requirement already satisfied: pandas>=0.23 in c:\\users\\asus\\anaconda3\\lib\\site-packages (from seaborn->missingno) (1.3.4)\n",
      "Requirement already satisfied: pytz>=2017.3 in c:\\users\\asus\\anaconda3\\lib\\site-packages (from pandas>=0.23->seaborn->missingno) (2021.3)\n",
      "Installing collected packages: missingno\n",
      "Successfully installed missingno-0.5.0\n"
     ]
    }
   ],
   "source": [
    "!pip install missingno"
   ]
  },
  {
   "cell_type": "code",
   "execution_count": 4,
   "id": "a8df0ef8",
   "metadata": {},
   "outputs": [],
   "source": [
    "from tqdm import tqdm\n",
    "import warnings\n",
    "from ast import literal_eval\n",
    "import missingno as msno\n",
    "warnings.filterwarnings(\"ignore\")\n"
   ]
  },
  {
   "cell_type": "code",
   "execution_count": 5,
   "id": "8eb62ba7",
   "metadata": {},
   "outputs": [],
   "source": [
    "from scipy import stats\n",
    "from ast import literal_eval\n",
    "from sklearn.feature_extraction.text import TfidfVectorizer, CountVectorizer\n",
    "from sklearn.metrics.pairwise import linear_kernel, cosine_similarity\n",
    "from nltk.stem.snowball import SnowballStemmer\n"
   ]
  },
  {
   "cell_type": "code",
   "execution_count": 7,
   "id": "c26127b0",
   "metadata": {},
   "outputs": [],
   "source": [
    "metadata = pd.read_csv(\"archive/movies_metadata.csv\",low_memory = False)"
   ]
  },
  {
   "cell_type": "code",
   "execution_count": 8,
   "id": "791edfd1",
   "metadata": {},
   "outputs": [
    {
     "data": {
      "text/html": [
       "<div>\n",
       "<style scoped>\n",
       "    .dataframe tbody tr th:only-of-type {\n",
       "        vertical-align: middle;\n",
       "    }\n",
       "\n",
       "    .dataframe tbody tr th {\n",
       "        vertical-align: top;\n",
       "    }\n",
       "\n",
       "    .dataframe thead th {\n",
       "        text-align: right;\n",
       "    }\n",
       "</style>\n",
       "<table border=\"1\" class=\"dataframe\">\n",
       "  <thead>\n",
       "    <tr style=\"text-align: right;\">\n",
       "      <th></th>\n",
       "      <th>adult</th>\n",
       "      <th>belongs_to_collection</th>\n",
       "      <th>budget</th>\n",
       "      <th>genres</th>\n",
       "      <th>homepage</th>\n",
       "      <th>id</th>\n",
       "      <th>imdb_id</th>\n",
       "      <th>original_language</th>\n",
       "      <th>original_title</th>\n",
       "      <th>overview</th>\n",
       "      <th>...</th>\n",
       "      <th>release_date</th>\n",
       "      <th>revenue</th>\n",
       "      <th>runtime</th>\n",
       "      <th>spoken_languages</th>\n",
       "      <th>status</th>\n",
       "      <th>tagline</th>\n",
       "      <th>title</th>\n",
       "      <th>video</th>\n",
       "      <th>vote_average</th>\n",
       "      <th>vote_count</th>\n",
       "    </tr>\n",
       "  </thead>\n",
       "  <tbody>\n",
       "    <tr>\n",
       "      <th>0</th>\n",
       "      <td>False</td>\n",
       "      <td>{'id': 10194, 'name': 'Toy Story Collection', ...</td>\n",
       "      <td>30000000</td>\n",
       "      <td>[{'id': 16, 'name': 'Animation'}, {'id': 35, '...</td>\n",
       "      <td>http://toystory.disney.com/toy-story</td>\n",
       "      <td>862</td>\n",
       "      <td>tt0114709</td>\n",
       "      <td>en</td>\n",
       "      <td>Toy Story</td>\n",
       "      <td>Led by Woody, Andy's toys live happily in his ...</td>\n",
       "      <td>...</td>\n",
       "      <td>1995-10-30</td>\n",
       "      <td>373554033.0</td>\n",
       "      <td>81.0</td>\n",
       "      <td>[{'iso_639_1': 'en', 'name': 'English'}]</td>\n",
       "      <td>Released</td>\n",
       "      <td>NaN</td>\n",
       "      <td>Toy Story</td>\n",
       "      <td>False</td>\n",
       "      <td>7.7</td>\n",
       "      <td>5415.0</td>\n",
       "    </tr>\n",
       "    <tr>\n",
       "      <th>1</th>\n",
       "      <td>False</td>\n",
       "      <td>NaN</td>\n",
       "      <td>65000000</td>\n",
       "      <td>[{'id': 12, 'name': 'Adventure'}, {'id': 14, '...</td>\n",
       "      <td>NaN</td>\n",
       "      <td>8844</td>\n",
       "      <td>tt0113497</td>\n",
       "      <td>en</td>\n",
       "      <td>Jumanji</td>\n",
       "      <td>When siblings Judy and Peter discover an encha...</td>\n",
       "      <td>...</td>\n",
       "      <td>1995-12-15</td>\n",
       "      <td>262797249.0</td>\n",
       "      <td>104.0</td>\n",
       "      <td>[{'iso_639_1': 'en', 'name': 'English'}, {'iso...</td>\n",
       "      <td>Released</td>\n",
       "      <td>Roll the dice and unleash the excitement!</td>\n",
       "      <td>Jumanji</td>\n",
       "      <td>False</td>\n",
       "      <td>6.9</td>\n",
       "      <td>2413.0</td>\n",
       "    </tr>\n",
       "    <tr>\n",
       "      <th>2</th>\n",
       "      <td>False</td>\n",
       "      <td>{'id': 119050, 'name': 'Grumpy Old Men Collect...</td>\n",
       "      <td>0</td>\n",
       "      <td>[{'id': 10749, 'name': 'Romance'}, {'id': 35, ...</td>\n",
       "      <td>NaN</td>\n",
       "      <td>15602</td>\n",
       "      <td>tt0113228</td>\n",
       "      <td>en</td>\n",
       "      <td>Grumpier Old Men</td>\n",
       "      <td>A family wedding reignites the ancient feud be...</td>\n",
       "      <td>...</td>\n",
       "      <td>1995-12-22</td>\n",
       "      <td>0.0</td>\n",
       "      <td>101.0</td>\n",
       "      <td>[{'iso_639_1': 'en', 'name': 'English'}]</td>\n",
       "      <td>Released</td>\n",
       "      <td>Still Yelling. Still Fighting. Still Ready for...</td>\n",
       "      <td>Grumpier Old Men</td>\n",
       "      <td>False</td>\n",
       "      <td>6.5</td>\n",
       "      <td>92.0</td>\n",
       "    </tr>\n",
       "  </tbody>\n",
       "</table>\n",
       "<p>3 rows × 24 columns</p>\n",
       "</div>"
      ],
      "text/plain": [
       "   adult                              belongs_to_collection    budget  \\\n",
       "0  False  {'id': 10194, 'name': 'Toy Story Collection', ...  30000000   \n",
       "1  False                                                NaN  65000000   \n",
       "2  False  {'id': 119050, 'name': 'Grumpy Old Men Collect...         0   \n",
       "\n",
       "                                              genres  \\\n",
       "0  [{'id': 16, 'name': 'Animation'}, {'id': 35, '...   \n",
       "1  [{'id': 12, 'name': 'Adventure'}, {'id': 14, '...   \n",
       "2  [{'id': 10749, 'name': 'Romance'}, {'id': 35, ...   \n",
       "\n",
       "                               homepage     id    imdb_id original_language  \\\n",
       "0  http://toystory.disney.com/toy-story    862  tt0114709                en   \n",
       "1                                   NaN   8844  tt0113497                en   \n",
       "2                                   NaN  15602  tt0113228                en   \n",
       "\n",
       "     original_title                                           overview  ...  \\\n",
       "0         Toy Story  Led by Woody, Andy's toys live happily in his ...  ...   \n",
       "1           Jumanji  When siblings Judy and Peter discover an encha...  ...   \n",
       "2  Grumpier Old Men  A family wedding reignites the ancient feud be...  ...   \n",
       "\n",
       "  release_date      revenue runtime  \\\n",
       "0   1995-10-30  373554033.0    81.0   \n",
       "1   1995-12-15  262797249.0   104.0   \n",
       "2   1995-12-22          0.0   101.0   \n",
       "\n",
       "                                    spoken_languages    status  \\\n",
       "0           [{'iso_639_1': 'en', 'name': 'English'}]  Released   \n",
       "1  [{'iso_639_1': 'en', 'name': 'English'}, {'iso...  Released   \n",
       "2           [{'iso_639_1': 'en', 'name': 'English'}]  Released   \n",
       "\n",
       "                                             tagline             title  video  \\\n",
       "0                                                NaN         Toy Story  False   \n",
       "1          Roll the dice and unleash the excitement!           Jumanji  False   \n",
       "2  Still Yelling. Still Fighting. Still Ready for...  Grumpier Old Men  False   \n",
       "\n",
       "  vote_average vote_count  \n",
       "0          7.7     5415.0  \n",
       "1          6.9     2413.0  \n",
       "2          6.5       92.0  \n",
       "\n",
       "[3 rows x 24 columns]"
      ]
     },
     "execution_count": 8,
     "metadata": {},
     "output_type": "execute_result"
    }
   ],
   "source": [
    "metadata.head(3)"
   ]
  },
  {
   "cell_type": "code",
   "execution_count": 9,
   "id": "f5e4c136",
   "metadata": {},
   "outputs": [
    {
     "name": "stdout",
     "output_type": "stream",
     "text": [
      "<class 'pandas.core.frame.DataFrame'>\n",
      "RangeIndex: 45466 entries, 0 to 45465\n",
      "Data columns (total 24 columns):\n",
      " #   Column                 Non-Null Count  Dtype  \n",
      "---  ------                 --------------  -----  \n",
      " 0   adult                  45466 non-null  object \n",
      " 1   belongs_to_collection  4494 non-null   object \n",
      " 2   budget                 45466 non-null  object \n",
      " 3   genres                 45466 non-null  object \n",
      " 4   homepage               7782 non-null   object \n",
      " 5   id                     45466 non-null  object \n",
      " 6   imdb_id                45449 non-null  object \n",
      " 7   original_language      45455 non-null  object \n",
      " 8   original_title         45466 non-null  object \n",
      " 9   overview               44512 non-null  object \n",
      " 10  popularity             45461 non-null  object \n",
      " 11  poster_path            45080 non-null  object \n",
      " 12  production_companies   45463 non-null  object \n",
      " 13  production_countries   45463 non-null  object \n",
      " 14  release_date           45379 non-null  object \n",
      " 15  revenue                45460 non-null  float64\n",
      " 16  runtime                45203 non-null  float64\n",
      " 17  spoken_languages       45460 non-null  object \n",
      " 18  status                 45379 non-null  object \n",
      " 19  tagline                20412 non-null  object \n",
      " 20  title                  45460 non-null  object \n",
      " 21  video                  45460 non-null  object \n",
      " 22  vote_average           45460 non-null  float64\n",
      " 23  vote_count             45460 non-null  float64\n",
      "dtypes: float64(4), object(20)\n",
      "memory usage: 8.3+ MB\n"
     ]
    }
   ],
   "source": [
    "metadata.info()"
   ]
  },
  {
   "cell_type": "markdown",
   "id": "e7d74309",
   "metadata": {},
   "source": [
    "45466 veri bulunmakta ve  24 öznitelikten oluşmaktadır. Eksik gözlem de vardır.\n"
   ]
  },
  {
   "cell_type": "markdown",
   "id": "7b38be88",
   "metadata": {},
   "source": [
    "#### Eksik Verileri Gözlemleme"
   ]
  },
  {
   "cell_type": "code",
   "execution_count": 10,
   "id": "66f48a1b",
   "metadata": {},
   "outputs": [
    {
     "data": {
      "text/plain": [
       "<AxesSubplot:>"
      ]
     },
     "execution_count": 10,
     "metadata": {},
     "output_type": "execute_result"
    },
    {
     "data": {
      "image/png": "[encoded data removed]",
      "text/plain": [
       "<Figure size 1440x720 with 3 Axes>"
      ]
     },
     "metadata": {
      "needs_background": "light"
     },
     "output_type": "display_data"
    }
   ],
   "source": [
    "msno.bar(metadata, sort=\"ascending\", color=\"#7209b7\", figsize = (20,10), fontsize = 15)"
   ]
  },
  {
   "cell_type": "code",
   "execution_count": 11,
   "id": "abda80ee",
   "metadata": {},
   "outputs": [
    {
     "data": {
      "text/plain": [
       "(45466, 24)"
      ]
     },
     "execution_count": 11,
     "metadata": {},
     "output_type": "execute_result"
    }
   ],
   "source": [
    "metadata.shape"
   ]
  },
  {
   "cell_type": "code",
   "execution_count": 12,
   "id": "79180919",
   "metadata": {},
   "outputs": [
    {
     "data": {
      "text/plain": [
       "adult                        0\n",
       "belongs_to_collection    40972\n",
       "budget                       0\n",
       "genres                       0\n",
       "homepage                 37684\n",
       "id                           0\n",
       "imdb_id                     17\n",
       "original_language           11\n",
       "original_title               0\n",
       "overview                   954\n",
       "popularity                   5\n",
       "poster_path                386\n",
       "production_companies         3\n",
       "production_countries         3\n",
       "release_date                87\n",
       "revenue                      6\n",
       "runtime                    263\n",
       "spoken_languages             6\n",
       "status                      87\n",
       "tagline                  25054\n",
       "title                        6\n",
       "video                        6\n",
       "vote_average                 6\n",
       "vote_count                   6\n",
       "dtype: int64"
      ]
     },
     "execution_count": 12,
     "metadata": {},
     "output_type": "execute_result"
    }
   ],
   "source": [
    "metadata.isnull().sum()"
   ]
  },
  {
   "cell_type": "code",
   "execution_count": 18,
   "id": "695bf23d",
   "metadata": {},
   "outputs": [],
   "source": [
    "#pd.DataFrame(metadata.isnull().sum()/metadata.shape[0]*100)"
   ]
  },
  {
   "cell_type": "markdown",
   "id": "de2b4d4f",
   "metadata": {},
   "source": [
    "Düşünülen en temel metriklerden biri derecelendirmedir. Ancak bu metriği kullanmanın bazı sakıncaları vardır.Birincisi filmin popülerliğini dikkate almaz. Bu nedenle 10 seçmenden 9 puan alan bir film, 10000 seçmenden 8.9 puan alan bir filmden daha iyi sayılacak. Ayrıca bu metrik son derece yüksek puanlarla daha az sayıda seçmen bulunan filmleri tercih etme eğiliminde olacaktır. Seçmen sayısı arttıkça Bir filmin derecelendirilmesi, filmin kalitesini yansıtan bir değere doğru düzenli olarak yaklaşır. Bir filmin kalitesini az sayıda seçmenle belirlemek zordur.\n",
    "\n",
    "Bu eksiklikler dikkate alınarak, ortalama dereceyi ve alınan oyların sayısını dikkate alan 'ağırlıklı bir derecelendirme notu' getirmek gerekir. Böyle bir sistem 100000 seçmenden 9 puan almış bir filmin, aynı derecelendirmeye sahip ancak birkaç yüz seçmene sahip bir YouTube web serisinden daha yüksek puan almasını sağlayacaktır.\n",
    "\n",
    "IMDB'nin Top 250 klonu oluşturulacağı için ağırlıklı derecelendirme formülü kullanılacaktır."
   ]
  },
  {
   "cell_type": "markdown",
   "id": "b38c0337",
   "metadata": {},
   "source": [
    "###  Weighted Rating (WR) = (v/(v+m).R)+(m/(v+m).C)\n",
    "v->Filmin oy sayısı\n",
    "m->Tabloda listelenmesi gereken asgari oy\n",
    "R->Filmin ortalama derecesi\n",
    "C->Raporun tamamındaki ortalama oylama"
   ]
  },
  {
   "cell_type": "markdown",
   "id": "fa598422",
   "metadata": {},
   "source": [
    "Verisetinde her film için V(vote_count) ve R(vote_average) değerleri zaten var. C değerini de doğrudan hesaplamak mümkündür. Belirlenmesi gereken m değeri için ise doğru bir değer yoktur. Bu değer belirli bir sayıdan az oy almış filmleri yok sayan bir filtre olarak düşünülebilir. Değeri tercihe bağlıdır.\n",
    "\n",
    "Bu durumda 90'lık persentif kesilme olarak kullanılacaktır. Yani grafikte yer alan bir film, listedeki filmlerin en az %90'ından daha fazla oy almalıdır."
   ]
  },
  {
   "cell_type": "markdown",
   "id": "21be716b",
   "metadata": {},
   "source": [
    "İlk olarak, tüm filmlerin ortalama dereceleri(C) hesaplanır."
   ]
  },
  {
   "cell_type": "code",
   "execution_count": 14,
   "id": "9c45a3f0",
   "metadata": {},
   "outputs": [],
   "source": [
    "#Filmlerin ortalama derecesinin (C) hesaplanması"
   ]
  },
  {
   "cell_type": "code",
   "execution_count": 15,
   "id": "3cc67bbc",
   "metadata": {},
   "outputs": [
    {
     "data": {
      "text/plain": [
       "5.618207215133889"
      ]
     },
     "execution_count": 15,
     "metadata": {},
     "output_type": "execute_result"
    }
   ],
   "source": [
    "metadata[\"vote_average\"].mean()"
   ]
  },
  {
   "cell_type": "code",
   "execution_count": 39,
   "id": "a6dc8010",
   "metadata": {},
   "outputs": [],
   "source": [
    "C = metadata.vote_average.mean()"
   ]
  },
  {
   "cell_type": "code",
   "execution_count": 40,
   "id": "371333c6",
   "metadata": {},
   "outputs": [
    {
     "data": {
      "text/plain": [
       "5.618207215133889"
      ]
     },
     "execution_count": 40,
     "metadata": {},
     "output_type": "execute_result"
    }
   ],
   "source": [
    "C"
   ]
  },
  {
   "cell_type": "code",
   "execution_count": 41,
   "id": "c4f707f0",
   "metadata": {},
   "outputs": [
    {
     "data": {
      "text/plain": [
       "0    7.7\n",
       "1    6.9\n",
       "2    6.5\n",
       "3    6.1\n",
       "4    5.7\n",
       "Name: vote_average, dtype: float64"
      ]
     },
     "execution_count": 41,
     "metadata": {},
     "output_type": "execute_result"
    }
   ],
   "source": [
    "metadata[\"vote_average\"].head(5)"
   ]
  },
  {
   "cell_type": "code",
   "execution_count": 42,
   "id": "3e3bbd2b",
   "metadata": {},
   "outputs": [
    {
     "data": {
      "text/plain": [
       "<bound method Series.unique of 0        7.7\n",
       "1        6.9\n",
       "2        6.5\n",
       "3        6.1\n",
       "4        5.7\n",
       "        ... \n",
       "45461    4.0\n",
       "45462    9.0\n",
       "45463    3.8\n",
       "45464    0.0\n",
       "45465    0.0\n",
       "Name: vote_average, Length: 45466, dtype: float64>"
      ]
     },
     "execution_count": 42,
     "metadata": {},
     "output_type": "execute_result"
    }
   ],
   "source": [
    "metadata[\"vote_average\"].unique"
   ]
  },
  {
   "cell_type": "code",
   "execution_count": 43,
   "id": "2a94c808",
   "metadata": {},
   "outputs": [
    {
     "data": {
      "text/plain": [
       "0        5415.0\n",
       "1        2413.0\n",
       "2          92.0\n",
       "3          34.0\n",
       "4         173.0\n",
       "          ...  \n",
       "45461       1.0\n",
       "45462       3.0\n",
       "45463       6.0\n",
       "45464       0.0\n",
       "45465       0.0\n",
       "Name: vote_count, Length: 45466, dtype: float64"
      ]
     },
     "execution_count": 43,
     "metadata": {},
     "output_type": "execute_result"
    }
   ],
   "source": [
    "metadata[\"vote_count\"]"
   ]
  },
  {
   "cell_type": "code",
   "execution_count": 44,
   "id": "82c84822",
   "metadata": {},
   "outputs": [
    {
     "data": {
      "text/plain": [
       "<bound method Series.unique of 0        5415.0\n",
       "1        2413.0\n",
       "2          92.0\n",
       "3          34.0\n",
       "4         173.0\n",
       "          ...  \n",
       "45461       1.0\n",
       "45462       3.0\n",
       "45463       6.0\n",
       "45464       0.0\n",
       "45465       0.0\n",
       "Name: vote_count, Length: 45466, dtype: float64>"
      ]
     },
     "execution_count": 44,
     "metadata": {},
     "output_type": "execute_result"
    }
   ],
   "source": [
    "metadata[\"vote_count\"].unique"
   ]
  },
  {
   "cell_type": "markdown",
   "id": "f082d503",
   "metadata": {},
   "source": [
    "m değerinin 90 persentif olarak hesaplanması için pandas kütüphanesi ve .quantile() metodu kullanılır."
   ]
  },
  {
   "cell_type": "code",
   "execution_count": 45,
   "id": "ee848ea4",
   "metadata": {},
   "outputs": [],
   "source": [
    "#En az alınabilecek oy sayısı(m) hesaplanması"
   ]
  },
  {
   "cell_type": "code",
   "execution_count": 46,
   "id": "12e0c80e",
   "metadata": {},
   "outputs": [],
   "source": [
    " m  = metadata[\"vote_count\"].quantile(0.90)"
   ]
  },
  {
   "cell_type": "code",
   "execution_count": 47,
   "id": "6aee6937",
   "metadata": {},
   "outputs": [
    {
     "data": {
      "text/plain": [
       "160.0"
      ]
     },
     "execution_count": 47,
     "metadata": {},
     "output_type": "execute_result"
    }
   ],
   "source": [
    "m"
   ]
  },
  {
   "cell_type": "markdown",
   "id": "ab006bab",
   "metadata": {},
   "source": [
    "Ardından oylama sayılarına bağlı olarak grafik için uygun filmler filtrelenir."
   ]
  },
  {
   "cell_type": "code",
   "execution_count": 48,
   "id": "c3a95391",
   "metadata": {},
   "outputs": [],
   "source": [
    "#Filmlerin Filtrelenmesi\n",
    "q_movies = metadata.copy().loc[metadata['vote_count'] >= m]"
   ]
  },
  {
   "cell_type": "markdown",
   "id": "979b3c57",
   "metadata": {},
   "source": [
    ".copy() ile yeni q_movies DataFrame'i oluşturulup filtrelenen filmler bu DataFrame'e aktarıldı ki orjinal metadata verileri etkilenmesin."
   ]
  },
  {
   "cell_type": "code",
   "execution_count": 49,
   "id": "3e026c7c",
   "metadata": {},
   "outputs": [
    {
     "name": "stdout",
     "output_type": "stream",
     "text": [
      "<class 'pandas.core.frame.DataFrame'>\n",
      "Int64Index: 4555 entries, 0 to 45343\n",
      "Data columns (total 24 columns):\n",
      " #   Column                 Non-Null Count  Dtype  \n",
      "---  ------                 --------------  -----  \n",
      " 0   adult                  4555 non-null   object \n",
      " 1   belongs_to_collection  1261 non-null   object \n",
      " 2   budget                 4555 non-null   object \n",
      " 3   genres                 4555 non-null   object \n",
      " 4   homepage               1831 non-null   object \n",
      " 5   id                     4555 non-null   object \n",
      " 6   imdb_id                4555 non-null   object \n",
      " 7   original_language      4555 non-null   object \n",
      " 8   original_title         4555 non-null   object \n",
      " 9   overview               4550 non-null   object \n",
      " 10  popularity             4555 non-null   object \n",
      " 11  poster_path            4555 non-null   object \n",
      " 12  production_companies   4555 non-null   object \n",
      " 13  production_countries   4555 non-null   object \n",
      " 14  release_date           4555 non-null   object \n",
      " 15  revenue                4555 non-null   float64\n",
      " 16  runtime                4555 non-null   float64\n",
      " 17  spoken_languages       4555 non-null   object \n",
      " 18  status                 4555 non-null   object \n",
      " 19  tagline                4068 non-null   object \n",
      " 20  title                  4555 non-null   object \n",
      " 21  video                  4555 non-null   object \n",
      " 22  vote_average           4555 non-null   float64\n",
      " 23  vote_count             4555 non-null   float64\n",
      "dtypes: float64(4), object(20)\n",
      "memory usage: 889.6+ KB\n"
     ]
    }
   ],
   "source": [
    "q_movies.info()"
   ]
  },
  {
   "cell_type": "markdown",
   "id": "b4b70ed9",
   "metadata": {},
   "source": [
    "Şimdi her film için metriğin hesaplanması gerekiyor. Bunun için weight_rating() fonksiyonu tanımlanıp, filmler için yeni bir özellik (score) tanımlanacaktır."
   ]
  },
  {
   "cell_type": "code",
   "execution_count": 52,
   "id": "054a9695",
   "metadata": {},
   "outputs": [],
   "source": [
    "def weighted_rating(x,m=m,C=C):\n",
    "    v = x[\"vote_count\"]\n",
    "    R = x[\"vote_average\"]\n",
    "    return (v/(v+m)*R)+(m/(v+m)* C)"
   ]
  },
  {
   "cell_type": "code",
   "execution_count": 53,
   "id": "a962df99",
   "metadata": {},
   "outputs": [],
   "source": [
    "#score değeri oluşturulur. weighted_rating() fonksiyonu ile değeri hesaplanır ve atanır.\n",
    "q_movies['score'] = q_movies.apply(weighted_rating, axis=1)"
   ]
  },
  {
   "cell_type": "markdown",
   "id": "42bd070b",
   "metadata": {},
   "source": [
    "Son olarak, DataFrame'in score özelliğine göre sıralanması ve en iyi 15 filmin başlığının, oy sayısının, oy oranının ve ağırlıklı puanının gösterilmesi."
   ]
  },
  {
   "cell_type": "code",
   "execution_count": 54,
   "id": "6d1b6146",
   "metadata": {},
   "outputs": [],
   "source": [
    "#Filmlerin sıralanması\n",
    "q_movies = q_movies.sort_values(\"score\",ascending=False)"
   ]
  },
  {
   "cell_type": "code",
   "execution_count": 56,
   "id": "d3aa2976",
   "metadata": {},
   "outputs": [
    {
     "name": "stdout",
     "output_type": "stream",
     "text": [
      "                                 title  vote_count  vote_average     score\n",
      "314           The Shawshank Redemption      8358.0           8.5  8.445869\n",
      "834                      The Godfather      6024.0           8.5  8.425439\n",
      "10309      Dilwale Dulhania Le Jayenge       661.0           9.1  8.421453\n",
      "12481                  The Dark Knight     12269.0           8.3  8.265477\n",
      "2843                        Fight Club      9678.0           8.3  8.256385\n",
      "292                       Pulp Fiction      8670.0           8.3  8.251406\n",
      "522                   Schindler's List      4436.0           8.3  8.206639\n",
      "23673                         Whiplash      4376.0           8.3  8.205404\n",
      "5481                     Spirited Away      3968.0           8.3  8.196055\n",
      "2211                 Life Is Beautiful      3643.0           8.3  8.187171\n",
      "1178            The Godfather: Part II      3418.0           8.3  8.180076\n",
      "1152   One Flew Over the Cuckoo's Nest      3001.0           8.3  8.164256\n",
      "351                       Forrest Gump      8147.0           8.2  8.150272\n",
      "1154           The Empire Strikes Back      5998.0           8.2  8.132919\n",
      "1176                            Psycho      2405.0           8.3  8.132715\n"
     ]
    }
   ],
   "source": [
    "#En iyi 15 filmin listelenmesi\n",
    "print(q_movies[['title','vote_count','vote_average','score']].head(15))"
   ]
  },
  {
   "cell_type": "code",
   "execution_count": null,
   "id": "5a333830",
   "metadata": {},
   "outputs": [],
   "source": []
  }
 ],
 "metadata": {
  "kernelspec": {
   "display_name": "Python 3 (ipykernel)",
   "language": "python",
   "name": "python3"
  },
  "language_info": {
   "codemirror_mode": {
    "name": "ipython",
    "version": 3
   },
   "file_extension": ".py",
   "mimetype": "text/x-python",
   "name": "python",
   "nbconvert_exporter": "python",
   "pygments_lexer": "ipython3",
   "version": "3.9.7"
  }
 },
 "nbformat": 4,
 "nbformat_minor": 5
}
